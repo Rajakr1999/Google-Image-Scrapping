{
 "cells": [
  {
   "cell_type": "code",
   "execution_count": 1,
   "id": "e5f52dff-7681-45b4-ae4e-13fb921c73ce",
   "metadata": {},
   "outputs": [],
   "source": [
    "import requests"
   ]
  },
  {
   "cell_type": "code",
   "execution_count": 2,
   "id": "b13deac6-76f3-48f8-b612-c999476ab339",
   "metadata": {},
   "outputs": [],
   "source": [
    "from bs4 import BeautifulSoup"
   ]
  },
  {
   "cell_type": "code",
   "execution_count": 3,
   "id": "132defc9-7f01-428b-9a8c-c0248bc2597b",
   "metadata": {},
   "outputs": [],
   "source": [
    "from urllib.request import urlopen as uReq"
   ]
  },
  {
   "cell_type": "code",
   "execution_count": 4,
   "id": "8138e073-e18f-4e9a-a199-448241482e00",
   "metadata": {},
   "outputs": [],
   "source": [
    "import logging"
   ]
  },
  {
   "cell_type": "code",
   "execution_count": 5,
   "id": "7e9c266a-4a91-442c-9c20-1be182791b6d",
   "metadata": {},
   "outputs": [],
   "source": [
    "import os"
   ]
  },
  {
   "cell_type": "code",
   "execution_count": 8,
   "id": "57cded8d-7a62-4165-90cb-3641e54e48ff",
   "metadata": {},
   "outputs": [],
   "source": [
    "save_dir=\"images/\"\n",
    "if not os.path.exists(save_dir):\n",
    "    os.makedirs(save_dir)"
   ]
  },
  {
   "cell_type": "code",
   "execution_count": 24,
   "id": "f410e614-8ef8-40de-970b-f28a639b3dd2",
   "metadata": {},
   "outputs": [],
   "source": [
    "headers={\"User-Agent\":\"Microsoft/5.0(Windows NT 10.0; Win64; x64) AppleWebkit/537.36 (KHTML, like Gecko) Chrome/58.0.3029.110 Safari/537.56\"}"
   ]
  },
  {
   "cell_type": "code",
   "execution_count": 44,
   "id": "48b8bb6b-f1ac-4367-b6b4-b0eca5fab736",
   "metadata": {},
   "outputs": [],
   "source": [
    "query=\"Ms Dhoni\"\n",
    "response=requests.get(f\"https://www.google.com/search?sca_esv=d60d3a125d76b2b5&sca_upv=1&rlz=1C1SLLM_enIN1118IN1118&sxsrf=ADLYWIJTNJPpALXiza9ooL8vFJu3PNzsiQ:1724909824413&q={query}&udm=2&fbs=AEQNm0CrHVBV9axs7YmgJiq-TjYc7RgyMjmhctvLCnk5YpVfOzTk9UgrCkq1LL6wECoQ_WGF6-zIqz1BtNh3V9dzD9f6TZCKTGet3qiyclN25SnuFGCZPKA-57kQU5G690K1SrI8kQjRwdMwPm5AyRR5rv-P-isZNvvRVfeywCgedRjx7ozggKL0D-weaFOPOszILfdWaxOibT-OhpU4-tvExZmSgdIrYw&sa=X&sqi=2&ved=2ahUKEwjZ--nqvZmIAxUC1TgGHX4DGoEQtKgLegQIExAB&biw=1536&bih=826&dpr=1.25\")"
   ]
  },
  {
   "cell_type": "code",
   "execution_count": 45,
   "id": "0ab848f1-a115-46aa-a153-5f6386cded9e",
   "metadata": {},
   "outputs": [
    {
     "name": "stdout",
     "output_type": "stream",
     "text": [
      "<Response [200]>\n"
     ]
    }
   ],
   "source": [
    "print(response)"
   ]
  },
  {
   "cell_type": "code",
   "execution_count": 46,
   "id": "0bee3139-f888-48fa-9d08-bb534108233e",
   "metadata": {},
   "outputs": [],
   "source": [
    "Soup=BeautifulSoup(response.content,\"html.parser\")"
   ]
  },
  {
   "cell_type": "code",
   "execution_count": 47,
   "id": "e64cc40f-b617-44aa-94e3-60bf68a6ed6e",
   "metadata": {},
   "outputs": [
    {
     "data": {
      "text/plain": [
       "<!DOCTYPE html PUBLIC \"-//WAPFORUM//DTD XHTML Mobile 1.0//EN\" \"http://www.wapforum.org/DTD/xhtml-mobile10.dtd\">\n",
       "<html lang=\"en-IN\" xmlns=\"http://www.w3.org/1999/xhtml\"><head><meta content=\"application/xhtml+xml; charset=utf-8\" http-equiv=\"Content-Type\"/><meta content=\"no-cache\" name=\"Cache-Control\"/><title>Ms Dhoni - Google Search</title><style>a{text-decoration:none;color:inherit}a:hover{text-decoration:underline}a img{border:0}body{font-family:arial,sans-serif;padding:8px;margin:0 auto;max-width:700px;min-width:240px;}.FbhRzb{border-left:thin solid #dadce0;border-right:thin solid #dadce0;border-top:thin solid #dadce0;height:40px;overflow:hidden}.n692Zd{margin-bottom:10px}.cvifge{height:40px;border-spacing:0}.QvGUP{height:40px;padding:0 8px 0 8px;vertical-align:top}.O4cRJf{height:40px;width:100%;padding:0;padding-right:14px}.O1ePr{height:40px;padding:0;vertical-align:top}.kgJEQe{height:36px;width:98px;vertical-align:top;margin-top:4px}.lXLRf{vertical-align:top}.MhzMZd{border:0;vertical-align:middle;font-size:14px;height:40px;padding:0;width:100%;padding-left:14px}.xB0fq{height:40px;border:none;font-size:14px;background-color:#1a73e8;color:#fff;padding:0 14px;margin:0;vertical-align:top;cursor:pointer}.xB0fq:focus{border:1px solid #1a73e8}.M7pB2{border:thin solid #dadce0;margin:0 0 3px 0;font-size:13px;font-weight:500;height:40px}.euZec{width:100%;height:40px;text-align:center;border-spacing:0}table.euZec td{padding:0;width:25%}.QIqI7{display:inline-block;padding-top:4px;font-weight:bold;color:#4285f4}.EY24We{border-bottom:2px solid #4285f4}.CsQyDc{display:inline-block;color:#70757a}.TuS8Ad{font-size:14px}.HddGcc{padding:8px;color:#70757a}.dzp8ae{font-weight:bold;color:#3c4043}.rEM8G{color:#70757a}.bookcf{table-layout:fixed;width:100%;border-spacing:0}.InWNIe{text-align:center}.uZgmoc{border:thin solid #dadce0;color:#70757a;font-size:14px;text-align:center;table-layout:fixed;width:100%}.frGj1b{display:block;padding:16px 0 12px 0;width:100%}.BnJWBc{text-align:center;padding:6px 0 13px 0;height:35px}.e3goi{vertical-align:top;padding:0;height:180px}.GpQGbf{margin:auto;border-collapse:collapse;border-spacing:0;width:100%}</style></head><body><style>.X6ZCif{color:#202124;font-size:11px;line-height:16px;display:inline-block;padding-top:2px;overflow:hidden;padding-bottom:4px;width:100%}.TwVfHd{border-radius:16px;border:thin solid #dadce0;display:inline-block;padding:8px 8px;margin-right:8px;margin-bottom:4px}.yekiAe{background-color:#dadce0}.jjVJ4e{width:100%}.ezO2md{border:thin solid #dadce0;padding:16px 14px 12px 14px;margin-bottom:10px;font-family:arial,sans-serif}.lIMUZd{font-family:arial,sans-serif}.RntSmf{border-spacing:0}.lgD2Tc{width:100%}.SpelHe{text-align:center}.SpelHe{position:relative}.kCmkOe{position:relative}.kCmkOe{width:162px;height:140px;line-height:140px;overflow:'hidden';text-align:center}.DS1iW{text-align:center;margin:auto;vertical-align:middle;max-width:162px;max-height:140px}.AlD19d{padding-top:2px;padding-bottom:8px;}.fYyStc{word-break:break-word}.ynsChf{display:block;white-space:nowrap;overflow:hidden;text-overflow:ellipsis}.Fj3V3b{color:#1967d2;font-size:14px;line-height:20px}.FrIlee{color:#202124;font-size:11px;line-height:16px}.F9iS2e{color:#70757a;font-size:11px;line-height:16px}.WMQ2Le{color:#70757a;font-size:12px;line-height:16px}.x3G5ab{color:#202124;font-size:12px;line-height:16px}.fuLhoc{color:#1967d2;font-size:16px;line-height:20px}.epoveb{font-size:24px;line-height:28px;font-weight:400;color:#202124}.dXDvrc{color:#0d652d;font-size:14px;line-height:20px;word-wrap:break-word}.dloBPe{font-weight:bold}.YVIcad{color:#70757a}.JkVVdd{color:#ea4335}.oXZRFd{color:#ea4335}.MQHtg{color:#fbbc04}.pyMRrb{color:#1e8e3e}.EtTZid{color:#1e8e3e}.M3vVJe{color:#1967d2}.qXLe6d{display:block}.NHQNef{font-style:italic}.Cb8Z7c{white-space:pre}a.ZWRArf{text-decoration:none}a .CVA68e:hover{text-decoration:underline}</style><div class=\"n692Zd\"><div class=\"BnJWBc\"><a class=\"lXLRf\" href=\"/?sa=X&amp;sca_esv=d60d3a125d76b2b5&amp;sca_upv=1&amp;rlz=1C1SLLM_enIN1118IN1118&amp;biw=1536&amp;bih=826&amp;output=images&amp;ie=UTF-8&amp;tbm=isch&amp;ved=0ahUKEwinxZDLwJmIAxVWklYBHfBDBjMQPAgC\"><img alt=\"Google\" class=\"kgJEQe\" src=\"/images/branding/searchlogo/1x/googlelogo_desk_heirloom_color_150x55dp.gif\"/></a></div><div class=\"FbhRzb\"><form action=\"/search\"><input name=\"sca_esv\" type=\"hidden\" value=\"d60d3a125d76b2b5\"/><input name=\"sca_upv\" type=\"hidden\" value=\"1\"/><input name=\"rlz\" type=\"hidden\" value=\"1C1SLLM_enIN1118IN1118\"/><input name=\"biw\" type=\"hidden\" value=\"1536\"/><input name=\"bih\" type=\"hidden\" value=\"826\"/><input name=\"ie\" type=\"hidden\" value=\"ISO-8859-1\"/><input name=\"tbm\" type=\"hidden\" value=\"isch\"/><input name=\"oq\" type=\"hidden\"/><input name=\"aqs\" type=\"hidden\"/><table class=\"cvifge\"><tr><td class=\"O4cRJf\"><input class=\"MhzMZd\" name=\"q\" type=\"text\" value=\"Ms Dhoni\"/></td><td class=\"O1ePr\"><input class=\"xB0fq\" type=\"submit\" value=\"Search\"/></td></tr></table></form></div><div class=\"M7pB2\"><table class=\"euZec\"><tbody><tr><td><a class=\"CsQyDc\" href=\"/search?q=Ms+Dhoni&amp;sca_esv=d60d3a125d76b2b5&amp;sca_upv=1&amp;rlz=1C1SLLM_enIN1118IN1118&amp;biw=1536&amp;bih=826&amp;ie=UTF-8&amp;source=lnms&amp;fbs=AEQNm0CrHVBV9axs7YmgJiq-TjYc7RgyMjmhctvLCnk5YpVfOzTk9UgrCkq1LL6wECoQ_WGF6-zIqz1BtNh3V9dzD9f6TZCKTGet3qiyclN25SnuFGCZPKA-57kQU5G690K1SrI8kQjRwdMwPm5AyRR5rv-P-isZNvvRVfeywCgedRjx7ozggKL0D-weaFOPOszILfdWaxOibT-OhpU4-tvExZmSgdIrYw&amp;sa=X&amp;ved=0ahUKEwinxZDLwJmIAxVWklYBHfBDBjMQ_AUIBCgA\">ALL</a></td><td><a class=\"CsQyDc\" href=\"/search?q=Ms+Dhoni&amp;sca_esv=d60d3a125d76b2b5&amp;sca_upv=1&amp;rlz=1C1SLLM_enIN1118IN1118&amp;biw=1536&amp;bih=826&amp;ie=UTF-8&amp;tbm=nws&amp;source=lnms&amp;fbs=AEQNm0CrHVBV9axs7YmgJiq-TjYc7RgyMjmhctvLCnk5YpVfOzTk9UgrCkq1LL6wECoQ_WGF6-zIqz1BtNh3V9dzD9f6TZCKTGet3qiyclN25SnuFGCZPKA-57kQU5G690K1SrI8kQjRwdMwPm5AyRR5rv-P-isZNvvRVfeywCgedRjx7ozggKL0D-weaFOPOszILfdWaxOibT-OhpU4-tvExZmSgdIrYw&amp;sa=X&amp;ved=0ahUKEwinxZDLwJmIAxVWklYBHfBDBjMQ_AUIBSgB\">NEWS</a></td><td class=\"EY24We\"><span class=\"QIqI7\">IMAGES</span></td><td><a class=\"CsQyDc\" href=\"/search?q=Ms+Dhoni&amp;sca_esv=d60d3a125d76b2b5&amp;sca_upv=1&amp;rlz=1C1SLLM_enIN1118IN1118&amp;biw=1536&amp;bih=826&amp;ie=UTF-8&amp;tbm=vid&amp;source=lnms&amp;fbs=AEQNm0CrHVBV9axs7YmgJiq-TjYc7RgyMjmhctvLCnk5YpVfOzTk9UgrCkq1LL6wECoQ_WGF6-zIqz1BtNh3V9dzD9f6TZCKTGet3qiyclN25SnuFGCZPKA-57kQU5G690K1SrI8kQjRwdMwPm5AyRR5rv-P-isZNvvRVfeywCgedRjx7ozggKL0D-weaFOPOszILfdWaxOibT-OhpU4-tvExZmSgdIrYw&amp;sa=X&amp;ved=0ahUKEwinxZDLwJmIAxVWklYBHfBDBjMQ_AUIBygD\">VIDEOS</a></td></tr></tbody></table></div></div><div><table class=\"GpQGbf\"><tr><td align=\"center\" class=\"e3goi\"><div class=\"jjVJ4e\"> <div> <div class=\"lIMUZd\"><div><table class=\"RntSmf\"><tr><td><a href=\"/url?q=https://www.britannica.com/biography/MS-Dhoni&amp;sa=U&amp;ved=2ahUKEwinxZDLwJmIAxVWklYBHfBDBjMQqoUBegQIBBAB&amp;usg=AOvVaw1l5y3PnF0zthm527VkpsLl\"><div class=\"kCmkOe\"><img alt=\"\" class=\"DS1iW\" src=\"https://encrypted-tbn0.gstatic.com/images?q=tbn:ANd9GcTYCmQaQDBHif6G_raTPWZxfNlK_Zjj0ly-FpYGXmtpJZISGw_BN9aLnShNMow&amp;s\"/></div></a></td></tr><tr><td><a href=\"/url?q=https://www.britannica.com/biography/MS-Dhoni&amp;sa=U&amp;ved=2ahUKEwinxZDLwJmIAxVWklYBHfBDBjMQr4kDegQIBBAC&amp;usg=AOvVaw2KC9t9xjRXdVRXsxSLhxPx\"><div class=\"AlD19d\"> <span class=\"qXLe6d x3G5ab\"> <span class=\"fYyStc\">M.S. Dhoni | Biography,...</span> </span> <span class=\"qXLe6d F9iS2e\"> <span class=\"fYyStc\">www.britannica.com</span> </span> </div></a></td></tr></table></div></div> </div> </div></td><td align=\"center\" class=\"e3goi\"><div class=\"jjVJ4e\"> <div> <div class=\"lIMUZd\"><div><table class=\"RntSmf\"><tr><td><a href=\"/url?q=https://www.iplt20.com/teams/chennai-super-kings/squad-details/1&amp;sa=U&amp;ved=2ahUKEwinxZDLwJmIAxVWklYBHfBDBjMQqoUBegQIEhAB&amp;usg=AOvVaw0J_5ANhuspgHQrI7ZASOFj\"><div class=\"kCmkOe\"><img alt=\"\" class=\"DS1iW\" src=\"https://encrypted-tbn0.gstatic.com/images?q=tbn:ANd9GcRl9XH7Tg49uslLbPZ0XLeqOMxJpW0zM5dTjreHRFIP8NwUTBlUO3fHmIxQqpU&amp;s\"/></div></a></td></tr><tr><td><a href=\"/url?q=https://www.iplt20.com/teams/chennai-super-kings/squad-details/1&amp;sa=U&amp;ved=2ahUKEwinxZDLwJmIAxVWklYBHfBDBjMQr4kDegQIEhAC&amp;usg=AOvVaw1Pi1k4OmQoa0xFEuD341yf\"><div class=\"AlD19d\"> <span class=\"qXLe6d x3G5ab\"> <span class=\"fYyStc\">IPL 2024 | Chennai Super...</span> </span> <span class=\"qXLe6d F9iS2e\"> <span class=\"fYyStc\">www.iplt20.com</span> </span> </div></a></td></tr></table></div></div> </div> </div></td><td align=\"center\" class=\"e3goi\"><div class=\"jjVJ4e\"> <div> <div class=\"lIMUZd\"><div><table class=\"RntSmf\"><tr><td><a href=\"/url?q=https://en.wikipedia.org/wiki/MS_Dhoni&amp;sa=U&amp;ved=2ahUKEwinxZDLwJmIAxVWklYBHfBDBjMQqoUBegQIExAB&amp;usg=AOvVaw2BodRKjm3ZlZuKLi-vD6yx\"><div class=\"kCmkOe\"><img alt=\"\" class=\"DS1iW\" src=\"https://encrypted-tbn0.gstatic.com/images?q=tbn:ANd9GcSXmFBET_fySvuKjhwmH122nP3fEgj76kHz42ubkcUSTQiKySEDiYpTO2hMkQ&amp;s\"/></div></a></td></tr><tr><td><a href=\"/url?q=https://en.wikipedia.org/wiki/MS_Dhoni&amp;sa=U&amp;ved=2ahUKEwinxZDLwJmIAxVWklYBHfBDBjMQr4kDegQIExAC&amp;usg=AOvVaw1Z8yqfA9TK_5Rltif5WH6i\"><div class=\"AlD19d\"> <span class=\"qXLe6d x3G5ab\"> <span class=\"fYyStc\">MS Dhoni - Wikipedia</span> </span> <span class=\"qXLe6d F9iS2e\"> <span class=\"fYyStc\">en.wikipedia.org</span> </span> </div></a></td></tr></table></div></div> </div> </div></td><td align=\"center\" class=\"e3goi\"><div class=\"jjVJ4e\"> <div> <div class=\"lIMUZd\"><div><table class=\"RntSmf\"><tr><td><a href=\"/url?q=https://www.espncricinfo.com/cricketers/ms-dhoni-28081&amp;sa=U&amp;ved=2ahUKEwinxZDLwJmIAxVWklYBHfBDBjMQqoUBegQIERAB&amp;usg=AOvVaw1p80Ml6FG1ohgjZnaRxfzZ\"><div class=\"kCmkOe\"><img alt=\"\" class=\"DS1iW\" src=\"https://encrypted-tbn0.gstatic.com/images?q=tbn:ANd9GcQBADRnx8j5GI5oNpqafjUsQDNdw0zGtr0OA6kY0eA10L3WuxljlrIYeAR7dA&amp;s\"/></div></a></td></tr><tr><td><a href=\"/url?q=https://www.espncricinfo.com/cricketers/ms-dhoni-28081&amp;sa=U&amp;ved=2ahUKEwinxZDLwJmIAxVWklYBHfBDBjMQr4kDegQIERAC&amp;usg=AOvVaw1QErc7926UHuEowk7wskLu\"><div class=\"AlD19d\"> <span class=\"qXLe6d x3G5ab\"> <span class=\"fYyStc\">MS Dhoni Profile - Cricket...</span> </span> <span class=\"qXLe6d F9iS2e\"> <span class=\"fYyStc\">www.espncricinfo.com</span> </span> </div></a></td></tr></table></div></div> </div> </div></td></tr><tr><td align=\"center\" class=\"e3goi\"><div class=\"jjVJ4e\"> <div> <div class=\"lIMUZd\"><div><table class=\"RntSmf\"><tr><td><a href=\"/url?q=https://in.pinterest.com/pin/ms-dhoni-wallpaper-join-telegram-chennel-link-in-bio-in-2024--96616354500879131/&amp;sa=U&amp;ved=2ahUKEwinxZDLwJmIAxVWklYBHfBDBjMQqoUBegQIDxAB&amp;usg=AOvVaw2_8qqWoC3Z0lRiLaxzituC\"><div class=\"kCmkOe\"><img alt=\"\" class=\"DS1iW\" src=\"https://encrypted-tbn0.gstatic.com/images?q=tbn:ANd9GcT26pzj51PJ_YHxSgTMmhbVSaA-aabZPidOG4frz6FY3urQ-pvBSfSG105nysE&amp;s\"/></div></a></td></tr><tr><td><a href=\"/url?q=https://in.pinterest.com/pin/ms-dhoni-wallpaper-join-telegram-chennel-link-in-bio-in-2024--96616354500879131/&amp;sa=U&amp;ved=2ahUKEwinxZDLwJmIAxVWklYBHfBDBjMQr4kDegQIDxAC&amp;usg=AOvVaw3dAKaCoKa423_NfMZN-Fp8\"><div class=\"AlD19d\"> <span class=\"qXLe6d x3G5ab\"> <span class=\"fYyStc\">Ms Dhoni wallpaper (Join...</span> </span> <span class=\"qXLe6d F9iS2e\"> <span class=\"fYyStc\">in.pinterest.com</span> </span> </div></a></td></tr></table></div></div> </div> </div></td><td align=\"center\" class=\"e3goi\"><div class=\"jjVJ4e\"> <div> <div class=\"lIMUZd\"><div><table class=\"RntSmf\"><tr><td><a href=\"/url?q=https://dl.flipkart.com/dl/poster-mahinder-singh-dhoni-ms-indian-cricket-digital-art-sl-14569-large-poster-36x24-inches-banner-media-multicolor-fine-print/p/itm9c00e073c75b8%3Fpid%3DPOSGKEHQFKNJPXGU%26cmpid%3Dproduct.share.pp%26_refId%3DPP.99d140d3-7994-4016-ac4d-6285e8747ffd.POSGKEHQFKNJPXGU&amp;sa=U&amp;ved=2ahUKEwinxZDLwJmIAxVWklYBHfBDBjMQqoUBegQIDRAB&amp;usg=AOvVaw2G-L5_fR9XGSdhZ7xazdMD\"><div class=\"kCmkOe\"><img alt=\"\" class=\"DS1iW\" src=\"https://encrypted-tbn0.gstatic.com/images?q=tbn:ANd9GcS_3rgHIlfBOw59Ow0nQ-R4z5XBdlP1LGRBv7Stb16MIpyBTD0kPDIZfJTYXmY&amp;s\"/></div></a></td></tr><tr><td><a href=\"/url?q=https://dl.flipkart.com/dl/poster-mahinder-singh-dhoni-ms-indian-cricket-digital-art-sl-14569-large-poster-36x24-inches-banner-media-multicolor-fine-print/p/itm9c00e073c75b8%3Fpid%3DPOSGKEHQFKNJPXGU%26cmpid%3Dproduct.share.pp%26_refId%3DPP.99d140d3-7994-4016-ac4d-6285e8747ffd.POSGKEHQFKNJPXGU&amp;sa=U&amp;ved=2ahUKEwinxZDLwJmIAxVWklYBHfBDBjMQr4kDegQIDRAC&amp;usg=AOvVaw0afRuT1NvQbBECeLwTKcl8\"><div class=\"AlD19d\"> <span class=\"qXLe6d x3G5ab\"> <span class=\"fYyStc\">Poster Mahinder Singh Dhoni...</span> </span> <span class=\"qXLe6d F9iS2e\"> <span class=\"fYyStc\">dl.flipkart.com</span> </span> </div></a></td></tr></table></div></div> </div> </div></td><td align=\"center\" class=\"e3goi\"><div class=\"jjVJ4e\"> <div> <div class=\"lIMUZd\"><div><table class=\"RntSmf\"><tr><td><a href=\"/url?q=https://www.news18.com/cricket/ms-dhoni-prepping-for-la-olympics-2028-ex-ind-captains-powerful-hit-leaves-opponent-clueless-watch-9026491.html&amp;sa=U&amp;ved=2ahUKEwinxZDLwJmIAxVWklYBHfBDBjMQqoUBegQIDhAB&amp;usg=AOvVaw2lyBIEwCN28pZ7XaIU6iwT\"><div class=\"kCmkOe\"><img alt=\"\" class=\"DS1iW\" src=\"https://encrypted-tbn0.gstatic.com/images?q=tbn:ANd9GcTnGaVaB9DWi5pxpm6CDHl21OVtkKg89_UV0Nk40BgFHwvgugEk4KeuJjntAhA&amp;s\"/></div></a></td></tr><tr><td><a href=\"/url?q=https://www.news18.com/cricket/ms-dhoni-prepping-for-la-olympics-2028-ex-ind-captains-powerful-hit-leaves-opponent-clueless-watch-9026491.html&amp;sa=U&amp;ved=2ahUKEwinxZDLwJmIAxVWklYBHfBDBjMQr4kDegQIDhAC&amp;usg=AOvVaw0KW9n2vQIqx4Jjd67FXQY9\"><div class=\"AlD19d\"> <span class=\"qXLe6d x3G5ab\"> <span class=\"fYyStc\">MS Dhoni Prepping for LA...</span> </span> <span class=\"qXLe6d F9iS2e\"> <span class=\"fYyStc\">www.news18.com</span> </span> </div></a></td></tr></table></div></div> </div> </div></td><td align=\"center\" class=\"e3goi\"><div class=\"jjVJ4e\"> <div> <div class=\"lIMUZd\"><div><table class=\"RntSmf\"><tr><td><a href=\"/url?q=https://www.indiatvnews.com/web-stories/sports/ms-dhoni-becomes-first-player-to-script-never-seen-before-record-in-ipl-history-2024-04-29-928485&amp;sa=U&amp;ved=2ahUKEwinxZDLwJmIAxVWklYBHfBDBjMQqoUBegQIEBAB&amp;usg=AOvVaw3UEaI9rCh1Q3II8CNhsJSm\"><div class=\"kCmkOe\"><img alt=\"\" class=\"DS1iW\" src=\"https://encrypted-tbn0.gstatic.com/images?q=tbn:ANd9GcSbzHArR17GviYDklyoMxj8lixOpJAkoaaBACElkqhNpSk_InsKj6n4DJjveg&amp;s\"/></div></a></td></tr><tr><td><a href=\"/url?q=https://www.indiatvnews.com/web-stories/sports/ms-dhoni-becomes-first-player-to-script-never-seen-before-record-in-ipl-history-2024-04-29-928485&amp;sa=U&amp;ved=2ahUKEwinxZDLwJmIAxVWklYBHfBDBjMQr4kDegQIEBAC&amp;usg=AOvVaw1sebeoDkPLffqKiHC_d8ra\"><div class=\"AlD19d\"> <span class=\"qXLe6d x3G5ab\"> <span class=\"fYyStc\">MS Dhoni becomes first...</span> </span> <span class=\"qXLe6d F9iS2e\"> <span class=\"fYyStc\">www.indiatvnews.com</span> </span> </div></a></td></tr></table></div></div> </div> </div></td></tr><tr><td align=\"center\" class=\"e3goi\"><div class=\"jjVJ4e\"> <div> <div class=\"lIMUZd\"><div><table class=\"RntSmf\"><tr><td><a href=\"/url?q=https://www.facebook.com/msdhonidiehardfc/&amp;sa=U&amp;ved=2ahUKEwinxZDLwJmIAxVWklYBHfBDBjMQqoUBegQICxAB&amp;usg=AOvVaw0afIp_YEo1lzSi5XZFBaJK\"><div class=\"kCmkOe\"><img alt=\"\" class=\"DS1iW\" src=\"https://encrypted-tbn0.gstatic.com/images?q=tbn:ANd9GcSXZIzNsi065OYeuboiyrql50apMxh6CI088J_yKSpvG8XypW0WBpPPXA4xNw&amp;s\"/></div></a></td></tr><tr><td><a href=\"/url?q=https://www.facebook.com/msdhonidiehardfc/&amp;sa=U&amp;ved=2ahUKEwinxZDLwJmIAxVWklYBHfBDBjMQr4kDegQICxAC&amp;usg=AOvVaw3N39fiBgXRz_t38rw2tsQN\"><div class=\"AlD19d\"> <span class=\"qXLe6d x3G5ab\"> <span class=\"fYyStc\">Ms Dhoni Die Hard FC</span> </span> <span class=\"qXLe6d F9iS2e\"> <span class=\"fYyStc\">www.facebook.com</span> </span> </div></a></td></tr></table></div></div> </div> </div></td><td align=\"center\" class=\"e3goi\"><div class=\"jjVJ4e\"> <div> <div class=\"lIMUZd\"><div><table class=\"RntSmf\"><tr><td><a href=\"/url?q=https://m.economictimes.com/news/sports/ms-dhonis-cryptic-fb-post-teases-fans-ahead-of-ipl-2024-heres-what-he-wrote/articleshow/108211803.cms&amp;sa=U&amp;ved=2ahUKEwinxZDLwJmIAxVWklYBHfBDBjMQqoUBegQIDBAB&amp;usg=AOvVaw32PjcWa3J5iDaEFotIXrYg\"><div class=\"kCmkOe\"><img alt=\"\" class=\"DS1iW\" src=\"https://encrypted-tbn0.gstatic.com/images?q=tbn:ANd9GcT7ac8nIrgtItpkFwCVdKZem1ug5y1SaHU6jyxUQ4VliMPz3S3_IqhraImNGw&amp;s\"/></div></a></td></tr><tr><td><a href=\"/url?q=https://m.economictimes.com/news/sports/ms-dhonis-cryptic-fb-post-teases-fans-ahead-of-ipl-2024-heres-what-he-wrote/articleshow/108211803.cms&amp;sa=U&amp;ved=2ahUKEwinxZDLwJmIAxVWklYBHfBDBjMQr4kDegQIDBAC&amp;usg=AOvVaw1nr3UY5s2WI1dBZGsrSlpT\"><div class=\"AlD19d\"> <span class=\"qXLe6d x3G5ab\"> <span class=\"fYyStc\">MS Dhoni: MS Dhoni's...</span> </span> <span class=\"qXLe6d F9iS2e\"> <span class=\"fYyStc\">m.economictimes.com</span> </span> </div></a></td></tr></table></div></div> </div> </div></td><td align=\"center\" class=\"e3goi\"><div class=\"jjVJ4e\"> <div> <div class=\"lIMUZd\"><div><table class=\"RntSmf\"><tr><td><a href=\"/url?q=https://www.jagranjosh.com/general-knowledge/ms-dhoni-records-1562679664-1&amp;sa=U&amp;ved=2ahUKEwinxZDLwJmIAxVWklYBHfBDBjMQqoUBegQIChAB&amp;usg=AOvVaw0DEZhKXU4WAonLDUdJyjku\"><div class=\"kCmkOe\"><img alt=\"\" class=\"DS1iW\" src=\"https://encrypted-tbn0.gstatic.com/images?q=tbn:ANd9GcTzE0vssVM7RpsGOLOqdz6eZBXlNPZbMVeOgsn1Tqt1RE0Uq6zX_j1-0y3hwX8&amp;s\"/></div></a></td></tr><tr><td><a href=\"/url?q=https://www.jagranjosh.com/general-knowledge/ms-dhoni-records-1562679664-1&amp;sa=U&amp;ved=2ahUKEwinxZDLwJmIAxVWklYBHfBDBjMQr4kDegQIChAC&amp;usg=AOvVaw3qMvGPUzTMQJp-Ss7ThoaT\"><div class=\"AlD19d\"> <span class=\"qXLe6d x3G5ab\"> <span class=\"fYyStc\">M.S. Dhoni: International...</span> </span> <span class=\"qXLe6d F9iS2e\"> <span class=\"fYyStc\">www.jagranjosh.com</span> </span> </div></a></td></tr></table></div></div> </div> </div></td><td align=\"center\" class=\"e3goi\"><div class=\"jjVJ4e\"> <div> <div class=\"lIMUZd\"><div><table class=\"RntSmf\"><tr><td><a href=\"/url?q=https://inc42.com/web-stories/startups-brands-backed-by-indian-cricketer-ms-dhoni/&amp;sa=U&amp;ved=2ahUKEwinxZDLwJmIAxVWklYBHfBDBjMQqoUBegQICRAB&amp;usg=AOvVaw1fWW5OABSRnCWKOQBHvtTJ\"><div class=\"kCmkOe\"><img alt=\"\" class=\"DS1iW\" src=\"https://encrypted-tbn0.gstatic.com/images?q=tbn:ANd9GcQLdKF8Kc3GL9f0FsvVgUMYnOEI8fzRl1AmEHm-1V3GYFQ4jmgKo0pvfEky13U&amp;s\"/></div></a></td></tr><tr><td><a href=\"/url?q=https://inc42.com/web-stories/startups-brands-backed-by-indian-cricketer-ms-dhoni/&amp;sa=U&amp;ved=2ahUKEwinxZDLwJmIAxVWklYBHfBDBjMQr4kDegQICRAC&amp;usg=AOvVaw1vLIZysPsSM5SXm2dpSMgB\"><div class=\"AlD19d\"> <span class=\"qXLe6d x3G5ab\"> <span class=\"fYyStc\">List of Startups &amp; Brands...</span> </span> <span class=\"qXLe6d F9iS2e\"> <span class=\"fYyStc\">inc42.com</span> </span> </div></a></td></tr></table></div></div> </div> </div></td></tr><tr><td align=\"center\" class=\"e3goi\"><div class=\"jjVJ4e\"> <div> <div class=\"lIMUZd\"><div><table class=\"RntSmf\"><tr><td><a href=\"/url?q=https://www.news18.com/viral/ms-dhoni-birthday-wallpaper-worthy-pictures-of-the-world-cup-winning-captain-8957093.html&amp;sa=U&amp;ved=2ahUKEwinxZDLwJmIAxVWklYBHfBDBjMQqoUBegQIAxAB&amp;usg=AOvVaw3PTzZ5gCo-WJsmnqmGfbKw\"><div class=\"kCmkOe\"><img alt=\"\" class=\"DS1iW\" src=\"https://encrypted-tbn0.gstatic.com/images?q=tbn:ANd9GcTEmUr_8G9cxmmdXmzrKKcMJ5N20CLoWXNtFcK56vrNEPcCXjr9na61Tt07WFU&amp;s\"/></div></a></td></tr><tr><td><a href=\"/url?q=https://www.news18.com/viral/ms-dhoni-birthday-wallpaper-worthy-pictures-of-the-world-cup-winning-captain-8957093.html&amp;sa=U&amp;ved=2ahUKEwinxZDLwJmIAxVWklYBHfBDBjMQr4kDegQIAxAC&amp;usg=AOvVaw02khbhBiQoqNdpRm_lYg-F\"><div class=\"AlD19d\"> <span class=\"qXLe6d x3G5ab\"> <span class=\"fYyStc\">MS Dhoni Birthday:...</span> </span> <span class=\"qXLe6d F9iS2e\"> <span class=\"fYyStc\">www.news18.com</span> </span> </div></a></td></tr></table></div></div> </div> </div></td><td align=\"center\" class=\"e3goi\"><div class=\"jjVJ4e\"> <div> <div class=\"lIMUZd\"><div><table class=\"RntSmf\"><tr><td><a href=\"/url?q=https://zeenews.india.com/photos/sports/cricket/world-richest-cricketers-sachin-tendulkar-net-worth-soars-to-rs-1500-crore-leaving-ms-dhoni-and-virat-kohli-behind-2782452&amp;sa=U&amp;ved=2ahUKEwinxZDLwJmIAxVWklYBHfBDBjMQqoUBegQIARAB&amp;usg=AOvVaw2kssKvjSC87zcTFor6cQNH\"><div class=\"kCmkOe\"><img alt=\"\" class=\"DS1iW\" src=\"https://encrypted-tbn0.gstatic.com/images?q=tbn:ANd9GcQYCgZZlIMJQ5wtBFi1wbYVkYrH3rjpJ7uqg2SrNc_a2TMZXxjXA5ndcx0pW9g&amp;s\"/></div></a></td></tr><tr><td><a href=\"/url?q=https://zeenews.india.com/photos/sports/cricket/world-richest-cricketers-sachin-tendulkar-net-worth-soars-to-rs-1500-crore-leaving-ms-dhoni-and-virat-kohli-behind-2782452&amp;sa=U&amp;ved=2ahUKEwinxZDLwJmIAxVWklYBHfBDBjMQr4kDegQIARAC&amp;usg=AOvVaw3bjCxqZb-ycVwfXIDqGKhK\"><div class=\"AlD19d\"> <span class=\"qXLe6d x3G5ab\"> <span class=\"fYyStc\">Worlds Richest Cricketers:...</span> </span> <span class=\"qXLe6d F9iS2e\"> <span class=\"fYyStc\">zeenews.india.com</span> </span> </div></a></td></tr></table></div></div> </div> </div></td><td align=\"center\" class=\"e3goi\"><div class=\"jjVJ4e\"> <div> <div class=\"lIMUZd\"><div><table class=\"RntSmf\"><tr><td><a href=\"/url?q=https://sports.ndtv.com/cricket/if-he-loses-20kg-i-will-pick-him-in-ipl-ms-dhonis-intriguing-chat-with-afghan-star-4645013&amp;sa=U&amp;ved=2ahUKEwinxZDLwJmIAxVWklYBHfBDBjMQqoUBegQIBRAB&amp;usg=AOvVaw3H5YovxDK_eSpnPEUPh5Zz\"><div class=\"kCmkOe\"><img alt=\"\" class=\"DS1iW\" src=\"https://encrypted-tbn0.gstatic.com/images?q=tbn:ANd9GcQnOH_j4Mjhz63lTh13QVUv7MQLo938RXlgdB0p1UZp4jR90gMLyPLGxFwWYQ&amp;s\"/></div></a></td></tr><tr><td><a href=\"/url?q=https://sports.ndtv.com/cricket/if-he-loses-20kg-i-will-pick-him-in-ipl-ms-dhonis-intriguing-chat-with-afghan-star-4645013&amp;sa=U&amp;ved=2ahUKEwinxZDLwJmIAxVWklYBHfBDBjMQr4kDegQIBRAC&amp;usg=AOvVaw1Kmn3U3Pe4k_IDb81WWrq9\"><div class=\"AlD19d\"> <span class=\"qXLe6d x3G5ab\"> <span class=\"fYyStc\">If He Loses 20kg, I Will...</span> </span> <span class=\"qXLe6d F9iS2e\"> <span class=\"fYyStc\">sports.ndtv.com</span> </span> </div></a></td></tr></table></div></div> </div> </div></td><td align=\"center\" class=\"e3goi\"><div class=\"jjVJ4e\"> <div> <div class=\"lIMUZd\"><div><table class=\"RntSmf\"><tr><td><a href=\"/url?q=https://www.dnaindia.com/sports/report-csk-ceo-provides-major-update-on-ms-dhoni-s-retirement-plan-says-ipl-2024-3090204&amp;sa=U&amp;ved=2ahUKEwinxZDLwJmIAxVWklYBHfBDBjMQqoUBegQICBAB&amp;usg=AOvVaw2ae98Ff525ME_7htRS1cj5\"><div class=\"kCmkOe\"><img alt=\"\" class=\"DS1iW\" src=\"https://encrypted-tbn0.gstatic.com/images?q=tbn:ANd9GcSWySoAKFT68Tf7n3w5DsRNW70cq4l32YNmuoctWojsJcsJwHCFbkOIdWyxUXw&amp;s\"/></div></a></td></tr><tr><td><a href=\"/url?q=https://www.dnaindia.com/sports/report-csk-ceo-provides-major-update-on-ms-dhoni-s-retirement-plan-says-ipl-2024-3090204&amp;sa=U&amp;ved=2ahUKEwinxZDLwJmIAxVWklYBHfBDBjMQr4kDegQICBAC&amp;usg=AOvVaw1srDGNdaSAgQC0nwpOfI8Z\"><div class=\"AlD19d\"> <span class=\"qXLe6d x3G5ab\"> <span class=\"fYyStc\">CSK CEO provides major...</span> </span> <span class=\"qXLe6d F9iS2e\"> <span class=\"fYyStc\">www.dnaindia.com</span> </span> </div></a></td></tr></table></div></div> </div> </div></td></tr><tr><td align=\"center\" class=\"e3goi\"><div class=\"jjVJ4e\"> <div> <div class=\"lIMUZd\"><div><table class=\"RntSmf\"><tr><td><a href=\"/url?q=https://in.pinterest.com/manesv8/mahendra-singh-dhoni-captain-cool/&amp;sa=U&amp;ved=2ahUKEwinxZDLwJmIAxVWklYBHfBDBjMQqoUBegQIBxAB&amp;usg=AOvVaw3JrQJAjR1S0DF1n1xrhNQT\"><div class=\"kCmkOe\"><img alt=\"\" class=\"DS1iW\" src=\"https://encrypted-tbn0.gstatic.com/images?q=tbn:ANd9GcQS6vpN58SgisrAmC8vZCW-KLXGDSojIFz7Z0b6bDGgWn7joYeg4RS3EB7ZGQ&amp;s\"/></div></a></td></tr><tr><td><a href=\"/url?q=https://in.pinterest.com/manesv8/mahendra-singh-dhoni-captain-cool/&amp;sa=U&amp;ved=2ahUKEwinxZDLwJmIAxVWklYBHfBDBjMQr4kDegQIBxAC&amp;usg=AOvVaw1ZuPvfiEAOzv2jViED01Mv\"><div class=\"AlD19d\"> <span class=\"qXLe6d x3G5ab\"> <span class=\"fYyStc\">350 Best Mahendra Singh...</span> </span> <span class=\"qXLe6d F9iS2e\"> <span class=\"fYyStc\">in.pinterest.com</span> </span> </div></a></td></tr></table></div></div> </div> </div></td><td align=\"center\" class=\"e3goi\"><div class=\"jjVJ4e\"> <div> <div class=\"lIMUZd\"><div><table class=\"RntSmf\"><tr><td><a href=\"/url?q=https://nimionlineadmission.in/blendedlearning/assets/cricket/ms-dhoni-best-images/&amp;sa=U&amp;ved=2ahUKEwinxZDLwJmIAxVWklYBHfBDBjMQqoUBegQIAhAB&amp;usg=AOvVaw3Ryn-4twrqhfOZmIJQahRP\"><div class=\"kCmkOe\"><img alt=\"\" class=\"DS1iW\" src=\"https://encrypted-tbn0.gstatic.com/images?q=tbn:ANd9GcSFMpOywrOjpRRHxdnqmr1DqIQNLdnZfL3b2yUgZLu8S0vd5QpvUkG5TnoborI&amp;s\"/></div></a></td></tr><tr><td><a href=\"/url?q=https://nimionlineadmission.in/blendedlearning/assets/cricket/ms-dhoni-best-images/&amp;sa=U&amp;ved=2ahUKEwinxZDLwJmIAxVWklYBHfBDBjMQr4kDegQIAhAC&amp;usg=AOvVaw1e2OSDunVLxnGCw2m-kATu\"><div class=\"AlD19d\"> <span class=\"qXLe6d x3G5ab\"> <span class=\"fYyStc\">Ms Dhoni Best Images -...</span> </span> <span class=\"qXLe6d F9iS2e\"> <span class=\"fYyStc\">nimionlineadmission.in</span> </span> </div></a></td></tr></table></div></div> </div> </div></td><td align=\"center\" class=\"e3goi\"><div class=\"jjVJ4e\"> <div> <div class=\"lIMUZd\"><div><table class=\"RntSmf\"><tr><td><a href=\"/url?q=https://www.businesstoday.in/visualstories/sports/sleep-is-the-secret-of-thalas-energy-ms-dhoni-reveals-the-remedy-for-his-remarkable-fitness-and-agility-at-the-age-of-42-132253-29-04-2024&amp;sa=U&amp;ved=2ahUKEwinxZDLwJmIAxVWklYBHfBDBjMQqoUBegQIABAB&amp;usg=AOvVaw1GGlpGa6td-cBVPRQLetw-\"><div class=\"kCmkOe\"><img alt=\"\" class=\"DS1iW\" src=\"https://encrypted-tbn0.gstatic.com/images?q=tbn:ANd9GcRnivkVcu0uEVrGmBk_cQoIVEIdy8xwmGHBH3Rc57oXIPBYn08N-NB6MWEUh64&amp;s\"/></div></a></td></tr><tr><td><a href=\"/url?q=https://www.businesstoday.in/visualstories/sports/sleep-is-the-secret-of-thalas-energy-ms-dhoni-reveals-the-remedy-for-his-remarkable-fitness-and-agility-at-the-age-of-42-132253-29-04-2024&amp;sa=U&amp;ved=2ahUKEwinxZDLwJmIAxVWklYBHfBDBjMQr4kDegQIABAC&amp;usg=AOvVaw1B7Ej22ch3O-2dgPqlVZ3S\"><div class=\"AlD19d\"> <span class=\"qXLe6d x3G5ab\"> <span class=\"fYyStc\">IPL 2024: Sleep is the...</span> </span> <span class=\"qXLe6d F9iS2e\"> <span class=\"fYyStc\">www.businesstoday.in</span> </span> </div></a></td></tr></table></div></div> </div> </div></td><td align=\"center\" class=\"e3goi\"><div class=\"jjVJ4e\"> <div> <div class=\"lIMUZd\"><div><table class=\"RntSmf\"><tr><td><a href=\"/url?q=https://www.hindustantimes.com/cricket/ms-dhoni-s-approach-to-cricket-is-spiritual/story-9SKJ6OcmE6noN948BHWKaP.html&amp;sa=U&amp;ved=2ahUKEwinxZDLwJmIAxVWklYBHfBDBjMQqoUBegQIBhAB&amp;usg=AOvVaw0_MYPf94i5-r-ojQVvju6-\"><div class=\"kCmkOe\"><img alt=\"\" class=\"DS1iW\" src=\"https://encrypted-tbn0.gstatic.com/images?q=tbn:ANd9GcS9fnFVsT4wYZa7jYtPnimljDsrEq8qeLQsxFTpiTICDPTaCp2a-L4evmSI6f0&amp;s\"/></div></a></td></tr><tr><td><a href=\"/url?q=https://www.hindustantimes.com/cricket/ms-dhoni-s-approach-to-cricket-is-spiritual/story-9SKJ6OcmE6noN948BHWKaP.html&amp;sa=U&amp;ved=2ahUKEwinxZDLwJmIAxVWklYBHfBDBjMQr4kDegQIBhAC&amp;usg=AOvVaw1_pz1CHv_dWt-nWHn-dfxh\"><div class=\"AlD19d\"> <span class=\"qXLe6d x3G5ab\"> <span class=\"fYyStc\">MS Dhoni's approach to...</span> </span> <span class=\"qXLe6d F9iS2e\"> <span class=\"fYyStc\">www.hindustantimes.com</span> </span> </div></a></td></tr></table></div></div> </div> </div></td></tr></table></div><table class=\"uZgmoc\"><tbody><td><a class=\"frGj1b\" href=\"/search?q=Ms+Dhoni&amp;sca_esv=d60d3a125d76b2b5&amp;sca_upv=1&amp;rlz=1C1SLLM_enIN1118IN1118&amp;biw=1536&amp;bih=826&amp;ie=UTF-8&amp;tbm=isch&amp;ei=4wvQZufHDtak2roP8IeZmAM&amp;start=20&amp;sa=N\">Next &gt;</a></td></tbody></table><br/><div class=\"TuS8Ad\" data-ved=\"0ahUKEwinxZDLwJmIAxVWklYBHfBDBjMQpyoIRQ\"><style>.VYM29{font-weight:bold}</style><div align=\"center\" class=\"HddGcc\"><span class=\"VYM29\">Pune, Maharashtra</span><span> - </span><span>From your IP address</span><span> - </span><a href=\"/url?q=https://support.google.com/websearch%3Fp%3Dws_settings_location%26hl%3Den-IN&amp;opi=89978449&amp;sa=U&amp;ved=0ahUKEwinxZDLwJmIAxVWklYBHfBDBjMQty4IRg&amp;usg=AOvVaw08YcYEbNWqVLKyogZUZPp4\">Learn more</a></div><div align=\"center\"><a class=\"rEM8G\" href=\"/url?q=https://accounts.google.com/ServiceLogin%3Fcontinue%3Dhttps://www.google.com/search%253Fsca_esv%253Dd60d3a125d76b2b5%2526sca_upv%253D1%2526rlz%253D1C1SLLM_enIN1118IN1118%2526sxsrf%253DADLYWIJTNJPpALXiza9ooL8vFJu3PNzsiQ:1724909824413%2526q%253DMs%252BDhoni%2526fbs%253DAEQNm0CrHVBV9axs7YmgJiq-TjYc7RgyMjmhctvLCnk5YpVfOzTk9UgrCkq1LL6wECoQ_WGF6-zIqz1BtNh3V9dzD9f6TZCKTGet3qiyclN25SnuFGCZPKA-57kQU5G690K1SrI8kQjRwdMwPm5AyRR5rv-P-isZNvvRVfeywCgedRjx7ozggKL0D-weaFOPOszILfdWaxOibT-OhpU4-tvExZmSgdIrYw%2526sa%253DX%2526sqi%253D2%2526ved%253D2ahUKEwjZ--nqvZmIAxUC1TgGHX4DGoEQtKgLegQIExAB%2526biw%253D1536%2526bih%253D826%2526dpr%253D1.25%2526tbm%253Disch%26hl%3Den&amp;opi=89978449&amp;sa=U&amp;ved=0ahUKEwinxZDLwJmIAxVWklYBHfBDBjMQxs8CCEc&amp;usg=AOvVaw2OgeqgiKpKmcajnqrGhp2J\">Sign in</a></div><div><table class=\"bookcf\"><tbody class=\"InWNIe\"><tr><td><a class=\"rEM8G\" href=\"https://www.google.com/preferences?hl=en&amp;sa=X&amp;ved=0ahUKEwinxZDLwJmIAxVWklYBHfBDBjMQv5YECEg\">Settings</a></td><td><a class=\"rEM8G\" href=\"https://www.google.com/intl/en_in/policies/privacy/\">Privacy</a></td><td><a class=\"rEM8G\" href=\"https://www.google.com/intl/en_in/policies/terms/\">Terms</a></td></tr></tbody></table></div></div><div> </div></body></html>"
      ]
     },
     "execution_count": 47,
     "metadata": {},
     "output_type": "execute_result"
    }
   ],
   "source": [
    "Soup"
   ]
  },
  {
   "cell_type": "code",
   "execution_count": 48,
   "id": "2a9426c3-b79d-4c0c-8d28-30e8979bab87",
   "metadata": {},
   "outputs": [],
   "source": [
    "images_tags=Soup.find_all(\"img\")"
   ]
  },
  {
   "cell_type": "code",
   "execution_count": 49,
   "id": "33caaf7e-3f54-44fe-98ca-dd65880c8fe6",
   "metadata": {},
   "outputs": [
    {
     "data": {
      "text/plain": [
       "[<img alt=\"Google\" class=\"kgJEQe\" src=\"/images/branding/searchlogo/1x/googlelogo_desk_heirloom_color_150x55dp.gif\"/>,\n",
       " <img alt=\"\" class=\"DS1iW\" src=\"https://encrypted-tbn0.gstatic.com/images?q=tbn:ANd9GcTYCmQaQDBHif6G_raTPWZxfNlK_Zjj0ly-FpYGXmtpJZISGw_BN9aLnShNMow&amp;s\"/>,\n",
       " <img alt=\"\" class=\"DS1iW\" src=\"https://encrypted-tbn0.gstatic.com/images?q=tbn:ANd9GcRl9XH7Tg49uslLbPZ0XLeqOMxJpW0zM5dTjreHRFIP8NwUTBlUO3fHmIxQqpU&amp;s\"/>,\n",
       " <img alt=\"\" class=\"DS1iW\" src=\"https://encrypted-tbn0.gstatic.com/images?q=tbn:ANd9GcSXmFBET_fySvuKjhwmH122nP3fEgj76kHz42ubkcUSTQiKySEDiYpTO2hMkQ&amp;s\"/>,\n",
       " <img alt=\"\" class=\"DS1iW\" src=\"https://encrypted-tbn0.gstatic.com/images?q=tbn:ANd9GcQBADRnx8j5GI5oNpqafjUsQDNdw0zGtr0OA6kY0eA10L3WuxljlrIYeAR7dA&amp;s\"/>,\n",
       " <img alt=\"\" class=\"DS1iW\" src=\"https://encrypted-tbn0.gstatic.com/images?q=tbn:ANd9GcT26pzj51PJ_YHxSgTMmhbVSaA-aabZPidOG4frz6FY3urQ-pvBSfSG105nysE&amp;s\"/>,\n",
       " <img alt=\"\" class=\"DS1iW\" src=\"https://encrypted-tbn0.gstatic.com/images?q=tbn:ANd9GcS_3rgHIlfBOw59Ow0nQ-R4z5XBdlP1LGRBv7Stb16MIpyBTD0kPDIZfJTYXmY&amp;s\"/>,\n",
       " <img alt=\"\" class=\"DS1iW\" src=\"https://encrypted-tbn0.gstatic.com/images?q=tbn:ANd9GcTnGaVaB9DWi5pxpm6CDHl21OVtkKg89_UV0Nk40BgFHwvgugEk4KeuJjntAhA&amp;s\"/>,\n",
       " <img alt=\"\" class=\"DS1iW\" src=\"https://encrypted-tbn0.gstatic.com/images?q=tbn:ANd9GcSbzHArR17GviYDklyoMxj8lixOpJAkoaaBACElkqhNpSk_InsKj6n4DJjveg&amp;s\"/>,\n",
       " <img alt=\"\" class=\"DS1iW\" src=\"https://encrypted-tbn0.gstatic.com/images?q=tbn:ANd9GcSXZIzNsi065OYeuboiyrql50apMxh6CI088J_yKSpvG8XypW0WBpPPXA4xNw&amp;s\"/>,\n",
       " <img alt=\"\" class=\"DS1iW\" src=\"https://encrypted-tbn0.gstatic.com/images?q=tbn:ANd9GcT7ac8nIrgtItpkFwCVdKZem1ug5y1SaHU6jyxUQ4VliMPz3S3_IqhraImNGw&amp;s\"/>,\n",
       " <img alt=\"\" class=\"DS1iW\" src=\"https://encrypted-tbn0.gstatic.com/images?q=tbn:ANd9GcTzE0vssVM7RpsGOLOqdz6eZBXlNPZbMVeOgsn1Tqt1RE0Uq6zX_j1-0y3hwX8&amp;s\"/>,\n",
       " <img alt=\"\" class=\"DS1iW\" src=\"https://encrypted-tbn0.gstatic.com/images?q=tbn:ANd9GcQLdKF8Kc3GL9f0FsvVgUMYnOEI8fzRl1AmEHm-1V3GYFQ4jmgKo0pvfEky13U&amp;s\"/>,\n",
       " <img alt=\"\" class=\"DS1iW\" src=\"https://encrypted-tbn0.gstatic.com/images?q=tbn:ANd9GcTEmUr_8G9cxmmdXmzrKKcMJ5N20CLoWXNtFcK56vrNEPcCXjr9na61Tt07WFU&amp;s\"/>,\n",
       " <img alt=\"\" class=\"DS1iW\" src=\"https://encrypted-tbn0.gstatic.com/images?q=tbn:ANd9GcQYCgZZlIMJQ5wtBFi1wbYVkYrH3rjpJ7uqg2SrNc_a2TMZXxjXA5ndcx0pW9g&amp;s\"/>,\n",
       " <img alt=\"\" class=\"DS1iW\" src=\"https://encrypted-tbn0.gstatic.com/images?q=tbn:ANd9GcQnOH_j4Mjhz63lTh13QVUv7MQLo938RXlgdB0p1UZp4jR90gMLyPLGxFwWYQ&amp;s\"/>,\n",
       " <img alt=\"\" class=\"DS1iW\" src=\"https://encrypted-tbn0.gstatic.com/images?q=tbn:ANd9GcSWySoAKFT68Tf7n3w5DsRNW70cq4l32YNmuoctWojsJcsJwHCFbkOIdWyxUXw&amp;s\"/>,\n",
       " <img alt=\"\" class=\"DS1iW\" src=\"https://encrypted-tbn0.gstatic.com/images?q=tbn:ANd9GcQS6vpN58SgisrAmC8vZCW-KLXGDSojIFz7Z0b6bDGgWn7joYeg4RS3EB7ZGQ&amp;s\"/>,\n",
       " <img alt=\"\" class=\"DS1iW\" src=\"https://encrypted-tbn0.gstatic.com/images?q=tbn:ANd9GcSFMpOywrOjpRRHxdnqmr1DqIQNLdnZfL3b2yUgZLu8S0vd5QpvUkG5TnoborI&amp;s\"/>,\n",
       " <img alt=\"\" class=\"DS1iW\" src=\"https://encrypted-tbn0.gstatic.com/images?q=tbn:ANd9GcRnivkVcu0uEVrGmBk_cQoIVEIdy8xwmGHBH3Rc57oXIPBYn08N-NB6MWEUh64&amp;s\"/>,\n",
       " <img alt=\"\" class=\"DS1iW\" src=\"https://encrypted-tbn0.gstatic.com/images?q=tbn:ANd9GcS9fnFVsT4wYZa7jYtPnimljDsrEq8qeLQsxFTpiTICDPTaCp2a-L4evmSI6f0&amp;s\"/>]"
      ]
     },
     "execution_count": 49,
     "metadata": {},
     "output_type": "execute_result"
    }
   ],
   "source": [
    "images_tags"
   ]
  },
  {
   "cell_type": "code",
   "execution_count": 50,
   "id": "c20b3054-2d09-4668-9d5f-5b264ff8e87d",
   "metadata": {},
   "outputs": [
    {
     "data": {
      "text/plain": [
       "21"
      ]
     },
     "execution_count": 50,
     "metadata": {},
     "output_type": "execute_result"
    }
   ],
   "source": [
    "len(images_tags)"
   ]
  },
  {
   "cell_type": "code",
   "execution_count": 51,
   "id": "3229ccbd-3703-4b15-a791-5bf9a32756be",
   "metadata": {},
   "outputs": [],
   "source": [
    "del images_tags[0]"
   ]
  },
  {
   "cell_type": "code",
   "execution_count": 52,
   "id": "7916f35f-f533-45f6-bc0a-36de96dc65dc",
   "metadata": {},
   "outputs": [],
   "source": [
    "img_data_mongo=[]\n",
    "for i in images_tags:\n",
    "    image_url=i['src']\n",
    "    image_data=requests.get(image_url).content\n",
    "    mydict={\"index\":image_url,\"image\":image_data}\n",
    "    img_data_mongo.append(mydict)\n",
    "\n",
    "    with open(os.path.join(save_dir,f\"{query}_{images_tags.index(i)}.jpg\"),\"wb\") as f:\n",
    "        f.write(image_data)"
   ]
  },
  {
   "cell_type": "code",
   "execution_count": null,
   "id": "ff733e25-0438-4b9f-a70c-2c3ce83e5137",
   "metadata": {},
   "outputs": [],
   "source": []
  }
 ],
 "metadata": {
  "kernelspec": {
   "display_name": "Python 3 (ipykernel)",
   "language": "python",
   "name": "python3"
  },
  "language_info": {
   "codemirror_mode": {
    "name": "ipython",
    "version": 3
   },
   "file_extension": ".py",
   "mimetype": "text/x-python",
   "name": "python",
   "nbconvert_exporter": "python",
   "pygments_lexer": "ipython3",
   "version": "3.11.9"
  }
 },
 "nbformat": 4,
 "nbformat_minor": 5
}
